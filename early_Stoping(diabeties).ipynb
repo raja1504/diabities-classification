{
  "nbformat": 4,
  "nbformat_minor": 0,
  "metadata": {
    "colab": {
      "provenance": []
    },
    "kernelspec": {
      "name": "python3",
      "display_name": "Python 3"
    },
    "language_info": {
      "name": "python"
    }
  },
  "cells": [
    {
      "cell_type": "code",
      "execution_count": null,
      "metadata": {
        "id": "tRJGetTi2FWn",
        "colab": {
          "base_uri": "https://localhost:8080/"
        },
        "outputId": "e3edce0c-c2f3-436a-f0c4-a660eb04b8c5"
      },
      "outputs": [
        {
          "output_type": "stream",
          "name": "stdout",
          "text": [
            "Epoch 1/100\n",
            "12/12 [==============================] - 1s 22ms/step - loss: 29827.7344 - accuracy: 0.0000e+00 - val_loss: 25990.9570 - val_accuracy: 0.0000e+00\n",
            "Epoch 2/100\n",
            "12/12 [==============================] - 0s 6ms/step - loss: 29806.2148 - accuracy: 0.0000e+00 - val_loss: 25954.8418 - val_accuracy: 0.0000e+00\n",
            "Epoch 3/100\n",
            "12/12 [==============================] - 0s 5ms/step - loss: 29759.6777 - accuracy: 0.0000e+00 - val_loss: 25898.5762 - val_accuracy: 0.0000e+00\n",
            "Epoch 4/100\n",
            "12/12 [==============================] - 0s 5ms/step - loss: 29697.2012 - accuracy: 0.0000e+00 - val_loss: 25832.3008 - val_accuracy: 0.0000e+00\n",
            "Epoch 5/100\n",
            "12/12 [==============================] - 0s 5ms/step - loss: 29623.9102 - accuracy: 0.0000e+00 - val_loss: 25755.9629 - val_accuracy: 0.0000e+00\n",
            "Epoch 6/100\n",
            "12/12 [==============================] - 0s 5ms/step - loss: 29539.6934 - accuracy: 0.0000e+00 - val_loss: 25667.3652 - val_accuracy: 0.0000e+00\n",
            "Epoch 7/100\n",
            "12/12 [==============================] - 0s 6ms/step - loss: 29442.2910 - accuracy: 0.0000e+00 - val_loss: 25562.7480 - val_accuracy: 0.0000e+00\n",
            "Epoch 8/100\n",
            "12/12 [==============================] - 0s 5ms/step - loss: 29325.8359 - accuracy: 0.0000e+00 - val_loss: 25437.9746 - val_accuracy: 0.0000e+00\n",
            "Epoch 9/100\n",
            "12/12 [==============================] - 0s 6ms/step - loss: 29185.5137 - accuracy: 0.0000e+00 - val_loss: 25289.9375 - val_accuracy: 0.0000e+00\n",
            "Epoch 10/100\n",
            "12/12 [==============================] - 0s 7ms/step - loss: 29017.4961 - accuracy: 0.0000e+00 - val_loss: 25117.0391 - val_accuracy: 0.0000e+00\n",
            "Epoch 11/100\n",
            "12/12 [==============================] - 0s 5ms/step - loss: 28831.3379 - accuracy: 0.0000e+00 - val_loss: 24923.8848 - val_accuracy: 0.0000e+00\n",
            "Epoch 12/100\n",
            "12/12 [==============================] - 0s 5ms/step - loss: 28610.8926 - accuracy: 0.0000e+00 - val_loss: 24701.2969 - val_accuracy: 0.0000e+00\n",
            "Epoch 13/100\n",
            "12/12 [==============================] - 0s 5ms/step - loss: 28356.2598 - accuracy: 0.0000e+00 - val_loss: 24432.5391 - val_accuracy: 0.0000e+00\n",
            "Epoch 14/100\n",
            "12/12 [==============================] - 0s 5ms/step - loss: 28041.2188 - accuracy: 0.0000e+00 - val_loss: 24114.9121 - val_accuracy: 0.0000e+00\n",
            "Epoch 15/100\n",
            "12/12 [==============================] - 0s 5ms/step - loss: 27672.2910 - accuracy: 0.0000e+00 - val_loss: 23728.8984 - val_accuracy: 0.0000e+00\n",
            "Epoch 16/100\n",
            "12/12 [==============================] - 0s 6ms/step - loss: 27221.0078 - accuracy: 0.0000e+00 - val_loss: 23289.9180 - val_accuracy: 0.0000e+00\n",
            "Epoch 17/100\n",
            "12/12 [==============================] - 0s 6ms/step - loss: 26691.2969 - accuracy: 0.0000e+00 - val_loss: 22777.4375 - val_accuracy: 0.0000e+00\n",
            "Epoch 18/100\n",
            "12/12 [==============================] - 0s 5ms/step - loss: 26093.7188 - accuracy: 0.0000e+00 - val_loss: 22218.5117 - val_accuracy: 0.0000e+00\n",
            "Epoch 19/100\n",
            "12/12 [==============================] - 0s 5ms/step - loss: 25440.7871 - accuracy: 0.0000e+00 - val_loss: 21577.4805 - val_accuracy: 0.0000e+00\n",
            "Epoch 20/100\n",
            "12/12 [==============================] - 0s 5ms/step - loss: 24685.8730 - accuracy: 0.0000e+00 - val_loss: 20856.5801 - val_accuracy: 0.0000e+00\n",
            "Epoch 21/100\n",
            "12/12 [==============================] - 0s 6ms/step - loss: 23815.2891 - accuracy: 0.0000e+00 - val_loss: 20024.6543 - val_accuracy: 0.0000e+00\n",
            "Epoch 22/100\n",
            "12/12 [==============================] - 0s 7ms/step - loss: 22871.8008 - accuracy: 0.0000e+00 - val_loss: 19179.2910 - val_accuracy: 0.0000e+00\n",
            "Epoch 23/100\n",
            "12/12 [==============================] - 0s 5ms/step - loss: 21917.3164 - accuracy: 0.0000e+00 - val_loss: 18262.7441 - val_accuracy: 0.0000e+00\n",
            "Epoch 24/100\n",
            "12/12 [==============================] - 0s 6ms/step - loss: 20818.5762 - accuracy: 0.0000e+00 - val_loss: 17313.4883 - val_accuracy: 0.0000e+00\n",
            "Epoch 25/100\n",
            "12/12 [==============================] - 0s 4ms/step - loss: 19701.1641 - accuracy: 0.0000e+00 - val_loss: 16241.0000 - val_accuracy: 0.0000e+00\n",
            "Epoch 26/100\n",
            "12/12 [==============================] - 0s 6ms/step - loss: 18339.6973 - accuracy: 0.0000e+00 - val_loss: 15033.0215 - val_accuracy: 0.0000e+00\n",
            "Epoch 27/100\n",
            "12/12 [==============================] - 0s 5ms/step - loss: 16934.0508 - accuracy: 0.0000e+00 - val_loss: 13786.6211 - val_accuracy: 0.0000e+00\n",
            "Epoch 28/100\n",
            "12/12 [==============================] - 0s 5ms/step - loss: 15558.2148 - accuracy: 0.0000e+00 - val_loss: 12661.4326 - val_accuracy: 0.0000e+00\n",
            "Epoch 29/100\n",
            "12/12 [==============================] - 0s 6ms/step - loss: 14246.5449 - accuracy: 0.0000e+00 - val_loss: 11544.9521 - val_accuracy: 0.0000e+00\n",
            "Epoch 30/100\n",
            "12/12 [==============================] - 0s 6ms/step - loss: 12936.8740 - accuracy: 0.0000e+00 - val_loss: 10437.6436 - val_accuracy: 0.0000e+00\n",
            "Epoch 31/100\n",
            "12/12 [==============================] - 0s 5ms/step - loss: 11601.6260 - accuracy: 0.0000e+00 - val_loss: 9335.8711 - val_accuracy: 0.0000e+00\n",
            "Epoch 32/100\n",
            "12/12 [==============================] - 0s 5ms/step - loss: 10353.6445 - accuracy: 0.0000e+00 - val_loss: 8333.6562 - val_accuracy: 0.0000e+00\n",
            "Epoch 33/100\n",
            "12/12 [==============================] - 0s 6ms/step - loss: 9175.7949 - accuracy: 0.0000e+00 - val_loss: 7446.8013 - val_accuracy: 0.0000e+00\n",
            "Epoch 34/100\n",
            "12/12 [==============================] - 0s 7ms/step - loss: 8134.5781 - accuracy: 0.0000e+00 - val_loss: 6603.0493 - val_accuracy: 0.0000e+00\n",
            "Epoch 35/100\n",
            "12/12 [==============================] - 0s 4ms/step - loss: 7205.0278 - accuracy: 0.0000e+00 - val_loss: 5961.8335 - val_accuracy: 0.0000e+00\n",
            "Epoch 36/100\n",
            "12/12 [==============================] - 0s 5ms/step - loss: 6458.6641 - accuracy: 0.0000e+00 - val_loss: 5469.3833 - val_accuracy: 0.0000e+00\n",
            "Epoch 37/100\n",
            "12/12 [==============================] - 0s 4ms/step - loss: 5884.5898 - accuracy: 0.0000e+00 - val_loss: 5061.4707 - val_accuracy: 0.0000e+00\n",
            "Epoch 38/100\n",
            "12/12 [==============================] - 0s 5ms/step - loss: 5445.3369 - accuracy: 0.0000e+00 - val_loss: 4775.4561 - val_accuracy: 0.0000e+00\n",
            "Epoch 39/100\n",
            "12/12 [==============================] - 0s 6ms/step - loss: 5117.2285 - accuracy: 0.0000e+00 - val_loss: 4551.1704 - val_accuracy: 0.0000e+00\n",
            "Epoch 40/100\n",
            "12/12 [==============================] - 0s 6ms/step - loss: 4841.7397 - accuracy: 0.0000e+00 - val_loss: 4390.4385 - val_accuracy: 0.0000e+00\n",
            "Epoch 41/100\n",
            "12/12 [==============================] - 0s 5ms/step - loss: 4625.4248 - accuracy: 0.0000e+00 - val_loss: 4257.4692 - val_accuracy: 0.0000e+00\n",
            "Epoch 42/100\n",
            "12/12 [==============================] - 0s 5ms/step - loss: 4461.9277 - accuracy: 0.0000e+00 - val_loss: 4155.6523 - val_accuracy: 0.0000e+00\n",
            "Epoch 43/100\n",
            "12/12 [==============================] - 0s 6ms/step - loss: 4334.2729 - accuracy: 0.0000e+00 - val_loss: 4086.8101 - val_accuracy: 0.0000e+00\n",
            "Epoch 44/100\n",
            "12/12 [==============================] - 0s 6ms/step - loss: 4236.8818 - accuracy: 0.0000e+00 - val_loss: 4017.2065 - val_accuracy: 0.0000e+00\n",
            "Epoch 45/100\n",
            "12/12 [==============================] - 0s 9ms/step - loss: 4160.4697 - accuracy: 0.0000e+00 - val_loss: 3970.5632 - val_accuracy: 0.0000e+00\n",
            "Epoch 46/100\n",
            "12/12 [==============================] - 0s 6ms/step - loss: 4105.4844 - accuracy: 0.0000e+00 - val_loss: 3927.8928 - val_accuracy: 0.0000e+00\n",
            "Epoch 47/100\n",
            "12/12 [==============================] - 0s 8ms/step - loss: 4045.6030 - accuracy: 0.0000e+00 - val_loss: 3887.1440 - val_accuracy: 0.0000e+00\n",
            "Epoch 48/100\n",
            "12/12 [==============================] - 0s 7ms/step - loss: 3969.4875 - accuracy: 0.0000e+00 - val_loss: 3843.3311 - val_accuracy: 0.0000e+00\n",
            "Epoch 49/100\n",
            "12/12 [==============================] - 0s 4ms/step - loss: 3908.2783 - accuracy: 0.0000e+00 - val_loss: 3817.4832 - val_accuracy: 0.0000e+00\n",
            "Epoch 50/100\n",
            "12/12 [==============================] - 0s 6ms/step - loss: 3864.1807 - accuracy: 0.0000e+00 - val_loss: 3787.4944 - val_accuracy: 0.0000e+00\n",
            "Epoch 51/100\n",
            "12/12 [==============================] - 0s 6ms/step - loss: 3833.0007 - accuracy: 0.0000e+00 - val_loss: 3766.3311 - val_accuracy: 0.0000e+00\n",
            "Epoch 52/100\n",
            "12/12 [==============================] - 0s 6ms/step - loss: 3782.4004 - accuracy: 0.0000e+00 - val_loss: 3717.1411 - val_accuracy: 0.0000e+00\n",
            "Epoch 53/100\n",
            "12/12 [==============================] - 0s 6ms/step - loss: 3761.1274 - accuracy: 0.0000e+00 - val_loss: 3697.3572 - val_accuracy: 0.0000e+00\n",
            "Epoch 54/100\n",
            "12/12 [==============================] - 0s 4ms/step - loss: 3726.5505 - accuracy: 0.0000e+00 - val_loss: 3678.6440 - val_accuracy: 0.0000e+00\n",
            "Epoch 55/100\n",
            "12/12 [==============================] - 0s 6ms/step - loss: 3695.0144 - accuracy: 0.0000e+00 - val_loss: 3660.5354 - val_accuracy: 0.0000e+00\n",
            "Epoch 56/100\n",
            "12/12 [==============================] - 0s 7ms/step - loss: 3664.5127 - accuracy: 0.0000e+00 - val_loss: 3642.4333 - val_accuracy: 0.0000e+00\n",
            "Epoch 57/100\n",
            "12/12 [==============================] - 0s 5ms/step - loss: 3633.4104 - accuracy: 0.0000e+00 - val_loss: 3627.9944 - val_accuracy: 0.0000e+00\n",
            "Epoch 58/100\n",
            "12/12 [==============================] - 0s 7ms/step - loss: 3606.2749 - accuracy: 0.0000e+00 - val_loss: 3612.0227 - val_accuracy: 0.0000e+00\n",
            "Epoch 59/100\n",
            "12/12 [==============================] - 0s 4ms/step - loss: 3580.8530 - accuracy: 0.0000e+00 - val_loss: 3596.4084 - val_accuracy: 0.0000e+00\n",
            "Epoch 60/100\n",
            "12/12 [==============================] - 0s 6ms/step - loss: 3556.5803 - accuracy: 0.0000e+00 - val_loss: 3581.5994 - val_accuracy: 0.0000e+00\n",
            "Epoch 61/100\n",
            "12/12 [==============================] - 0s 4ms/step - loss: 3528.5425 - accuracy: 0.0000e+00 - val_loss: 3572.3372 - val_accuracy: 0.0000e+00\n",
            "Epoch 62/100\n",
            "12/12 [==============================] - 0s 4ms/step - loss: 3505.0667 - accuracy: 0.0000e+00 - val_loss: 3560.7759 - val_accuracy: 0.0000e+00\n",
            "Epoch 63/100\n",
            "12/12 [==============================] - 0s 5ms/step - loss: 3491.8469 - accuracy: 0.0000e+00 - val_loss: 3556.5435 - val_accuracy: 0.0000e+00\n",
            "Epoch 64/100\n",
            "12/12 [==============================] - 0s 5ms/step - loss: 3466.5361 - accuracy: 0.0000e+00 - val_loss: 3533.2554 - val_accuracy: 0.0000e+00\n",
            "Epoch 65/100\n",
            "12/12 [==============================] - 0s 5ms/step - loss: 3457.8857 - accuracy: 0.0000e+00 - val_loss: 3508.9270 - val_accuracy: 0.0000e+00\n",
            "Epoch 66/100\n",
            "12/12 [==============================] - 0s 5ms/step - loss: 3441.3965 - accuracy: 0.0000e+00 - val_loss: 3491.6841 - val_accuracy: 0.0000e+00\n",
            "Epoch 67/100\n",
            "12/12 [==============================] - 0s 5ms/step - loss: 3419.9553 - accuracy: 0.0000e+00 - val_loss: 3477.8213 - val_accuracy: 0.0000e+00\n",
            "Epoch 68/100\n",
            "12/12 [==============================] - 0s 5ms/step - loss: 3409.1416 - accuracy: 0.0000e+00 - val_loss: 3467.8184 - val_accuracy: 0.0000e+00\n",
            "Epoch 69/100\n",
            "12/12 [==============================] - 0s 5ms/step - loss: 3380.2971 - accuracy: 0.0000e+00 - val_loss: 3466.5291 - val_accuracy: 0.0000e+00\n",
            "Epoch 70/100\n",
            "12/12 [==============================] - 0s 5ms/step - loss: 3360.0068 - accuracy: 0.0000e+00 - val_loss: 3463.4480 - val_accuracy: 0.0000e+00\n",
            "Epoch 71/100\n",
            "12/12 [==============================] - 0s 5ms/step - loss: 3341.5859 - accuracy: 0.0000e+00 - val_loss: 3452.6089 - val_accuracy: 0.0000e+00\n",
            "Epoch 72/100\n",
            "12/12 [==============================] - 0s 5ms/step - loss: 3327.0085 - accuracy: 0.0000e+00 - val_loss: 3447.1428 - val_accuracy: 0.0000e+00\n",
            "Epoch 73/100\n",
            "12/12 [==============================] - 0s 4ms/step - loss: 3311.4126 - accuracy: 0.0000e+00 - val_loss: 3436.2620 - val_accuracy: 0.0000e+00\n",
            "Epoch 74/100\n",
            "12/12 [==============================] - 0s 6ms/step - loss: 3299.3342 - accuracy: 0.0000e+00 - val_loss: 3423.8420 - val_accuracy: 0.0000e+00\n",
            "Epoch 75/100\n",
            "12/12 [==============================] - 0s 4ms/step - loss: 3285.7000 - accuracy: 0.0000e+00 - val_loss: 3406.8335 - val_accuracy: 0.0000e+00\n",
            "Epoch 76/100\n",
            "12/12 [==============================] - 0s 6ms/step - loss: 3280.1445 - accuracy: 0.0000e+00 - val_loss: 3392.3286 - val_accuracy: 0.0000e+00\n",
            "Epoch 77/100\n",
            "12/12 [==============================] - 0s 6ms/step - loss: 3287.7092 - accuracy: 0.0000e+00 - val_loss: 3387.9470 - val_accuracy: 0.0000e+00\n",
            "Epoch 78/100\n",
            "12/12 [==============================] - 0s 5ms/step - loss: 3284.0779 - accuracy: 0.0000e+00 - val_loss: 3379.7036 - val_accuracy: 0.0000e+00\n",
            "Epoch 79/100\n",
            "12/12 [==============================] - 0s 5ms/step - loss: 3260.9075 - accuracy: 0.0000e+00 - val_loss: 3369.5513 - val_accuracy: 0.0000e+00\n",
            "Epoch 80/100\n",
            "12/12 [==============================] - 0s 6ms/step - loss: 3235.6111 - accuracy: 0.0000e+00 - val_loss: 3361.9885 - val_accuracy: 0.0000e+00\n",
            "Epoch 81/100\n",
            "12/12 [==============================] - 0s 5ms/step - loss: 3217.2793 - accuracy: 0.0000e+00 - val_loss: 3356.6248 - val_accuracy: 0.0000e+00\n",
            "Epoch 82/100\n",
            "12/12 [==============================] - 0s 5ms/step - loss: 3200.4592 - accuracy: 0.0000e+00 - val_loss: 3350.1089 - val_accuracy: 0.0000e+00\n",
            "Epoch 83/100\n",
            "12/12 [==============================] - 0s 5ms/step - loss: 3180.2925 - accuracy: 0.0000e+00 - val_loss: 3338.2886 - val_accuracy: 0.0000e+00\n",
            "Epoch 84/100\n",
            "12/12 [==============================] - 0s 5ms/step - loss: 3167.3601 - accuracy: 0.0000e+00 - val_loss: 3333.0471 - val_accuracy: 0.0000e+00\n",
            "Epoch 85/100\n",
            "12/12 [==============================] - 0s 4ms/step - loss: 3154.0039 - accuracy: 0.0000e+00 - val_loss: 3330.9126 - val_accuracy: 0.0000e+00\n",
            "Epoch 86/100\n",
            "12/12 [==============================] - 0s 4ms/step - loss: 3135.5598 - accuracy: 0.0000e+00 - val_loss: 3322.7117 - val_accuracy: 0.0000e+00\n",
            "Epoch 87/100\n",
            "12/12 [==============================] - 0s 6ms/step - loss: 3125.9299 - accuracy: 0.0000e+00 - val_loss: 3301.3911 - val_accuracy: 0.0000e+00\n",
            "Epoch 88/100\n",
            "12/12 [==============================] - 0s 4ms/step - loss: 3116.8579 - accuracy: 0.0000e+00 - val_loss: 3289.5066 - val_accuracy: 0.0000e+00\n",
            "Epoch 89/100\n",
            "12/12 [==============================] - 0s 6ms/step - loss: 3106.6343 - accuracy: 0.0000e+00 - val_loss: 3282.4165 - val_accuracy: 0.0000e+00\n",
            "Epoch 90/100\n",
            "12/12 [==============================] - 0s 5ms/step - loss: 3098.8914 - accuracy: 0.0000e+00 - val_loss: 3280.1187 - val_accuracy: 0.0000e+00\n",
            "Epoch 91/100\n",
            "12/12 [==============================] - 0s 5ms/step - loss: 3096.9316 - accuracy: 0.0000e+00 - val_loss: 3271.1104 - val_accuracy: 0.0000e+00\n",
            "Epoch 92/100\n",
            "12/12 [==============================] - 0s 5ms/step - loss: 3101.4475 - accuracy: 0.0000e+00 - val_loss: 3264.8662 - val_accuracy: 0.0000e+00\n",
            "Epoch 93/100\n",
            "12/12 [==============================] - 0s 5ms/step - loss: 3085.6826 - accuracy: 0.0000e+00 - val_loss: 3259.0955 - val_accuracy: 0.0000e+00\n",
            "Epoch 94/100\n",
            "12/12 [==============================] - 0s 5ms/step - loss: 3065.9299 - accuracy: 0.0000e+00 - val_loss: 3256.5569 - val_accuracy: 0.0000e+00\n",
            "Epoch 95/100\n",
            "12/12 [==============================] - 0s 5ms/step - loss: 3053.6641 - accuracy: 0.0000e+00 - val_loss: 3251.2012 - val_accuracy: 0.0000e+00\n",
            "Epoch 96/100\n",
            "12/12 [==============================] - 0s 5ms/step - loss: 3041.1929 - accuracy: 0.0000e+00 - val_loss: 3247.5908 - val_accuracy: 0.0000e+00\n",
            "Epoch 97/100\n",
            "12/12 [==============================] - 0s 5ms/step - loss: 3030.2786 - accuracy: 0.0000e+00 - val_loss: 3245.5225 - val_accuracy: 0.0000e+00\n",
            "Epoch 98/100\n",
            "12/12 [==============================] - 0s 6ms/step - loss: 3019.3474 - accuracy: 0.0000e+00 - val_loss: 3244.3240 - val_accuracy: 0.0000e+00\n",
            "Epoch 99/100\n",
            "12/12 [==============================] - 0s 4ms/step - loss: 3012.1511 - accuracy: 0.0000e+00 - val_loss: 3245.1633 - val_accuracy: 0.0000e+00\n",
            "Epoch 100/100\n",
            "12/12 [==============================] - 0s 5ms/step - loss: 3009.0276 - accuracy: 0.0000e+00 - val_loss: 3219.0847 - val_accuracy: 0.0000e+00\n"
          ]
        }
      ],
      "source": [
        "from sklearn.datasets import load_diabetes\n",
        "from sklearn.preprocessing import StandardScaler # for normalization\n",
        "ld=load_diabetes()\n",
        "x=ld.data\n",
        "y=ld.target\n",
        "ss=StandardScaler() # for normalization data\n",
        "x1=ss.fit_transform(x)\n",
        "#now spliting data\n",
        "from sklearn.model_selection import train_test_split\n",
        "xtrain,xtest,ytrain,ytest=train_test_split(x1,y,test_size=0.2)\n",
        "from keras.models import Sequential\n",
        "from keras.layers import Dense\n",
        "model=Sequential()\n",
        "model.add(Dense(12,activation='relu',input_dim=10))\n",
        "model.add(Dense(12,activation='relu'))\n",
        "model.add(Dense(5,activation='relu'))\n",
        "model.add(Dense(1,activation='relu'))\n",
        "model.compile(optimizer='adam',loss='mean_squared_error',metrics=['accuracy'])\n",
        "from keras.callbacks import EarlyStopping\n",
        "es=EarlyStopping()\n",
        "es=EarlyStopping(monitor='val_loss',min_delta=0.001,patience=3,mode='auto')\n",
        "hs=model.fit(xtrain,ytrain,validation_data=(xtest,ytest),callbacks=[es],epochs=100)"
      ]
    },
    {
      "cell_type": "code",
      "source": [
        "import matplotlib.pyplot as plt\n",
        "plt.plot(hs.history['val_loss'])\n",
        "plt.plot(hs.history['loss'])"
      ],
      "metadata": {
        "colab": {
          "base_uri": "https://localhost:8080/",
          "height": 282
        },
        "id": "T3rYEEs6CEUx",
        "outputId": "16609c90-6db0-4561-fa46-c97de281b0fd"
      },
      "execution_count": null,
      "outputs": [
        {
          "output_type": "execute_result",
          "data": {
            "text/plain": [
              "[<matplotlib.lines.Line2D at 0x7f1de7a13fa0>]"
            ]
          },
          "metadata": {},
          "execution_count": 2
        },
        {
          "output_type": "display_data",
          "data": {
            "text/plain": [
              "<Figure size 432x288 with 1 Axes>"
            ],
            "image/png": "[encoded data removed]"
          },
          "metadata": {
            "needs_background": "light"
          }
        }
      ]
    },
    {
      "cell_type": "code",
      "source": [
        "plt.plot(hs.history['val_accuracy'])\n",
        "plt.plot(hs.history['accuracy'])"
      ],
      "metadata": {
        "colab": {
          "base_uri": "https://localhost:8080/",
          "height": 282
        },
        "id": "NJdVYGJVDcKC",
        "outputId": "d01e21d1-a6b4-4ade-b641-bb50b5c7d3db"
      },
      "execution_count": null,
      "outputs": [
        {
          "output_type": "execute_result",
          "data": {
            "text/plain": [
              "[<matplotlib.lines.Line2D at 0x7f1de755daf0>]"
            ]
          },
          "metadata": {},
          "execution_count": 3
        },
        {
          "output_type": "display_data",
          "data": {
            "text/plain": [
              "<Figure size 432x288 with 1 Axes>"
            ],
            "image/png": "[encoded data removed]"
          },
          "metadata": {
            "needs_background": "light"
          }
        }
      ]
    }
  ]
}